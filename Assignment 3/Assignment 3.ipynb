{
 "cells": [
  {
   "cell_type": "code",
   "execution_count": 2,
   "id": "8fa9b59b",
   "metadata": {},
   "outputs": [
    {
     "name": "stdout",
     "output_type": "stream",
     "text": [
      "Twinkle,twinkle, little star \n",
      "\tHow I wonder what you are!\n",
      "\t\tUp above the world so high,\n",
      "\t\tLike a diamond in the sky.\n",
      "Twinkle, twinkle, little star,\n",
      "\tHow I wonder what you are!\n"
     ]
    }
   ],
   "source": [
    "#1.Write a Python program to print the following string in a specific format (see theoutput).\n",
    "print(\"Twinkle,twinkle, little star\", \n",
    "      \"\\n\\tHow I wonder what you are!\" \n",
    "      \"\\n\\t\\tUp above the world so high,\" \n",
    "      \"\\n\\t\\tLike a diamond in the sky.\" \n",
    "      \"\\nTwinkle, twinkle, little star,\" \n",
    "      \"\\n\\tHow I wonder what you are!\")"
   ]
  },
  {
   "cell_type": "code",
   "execution_count": 4,
   "id": "cff303ed",
   "metadata": {},
   "outputs": [
    {
     "name": "stdout",
     "output_type": "stream",
     "text": [
      "Python version\n",
      "3.8.8 (default, Apr 13 2021, 15:08:03) [MSC v.1916 64 bit (AMD64)]\n"
     ]
    }
   ],
   "source": [
    "#2.Write a Python program to get the Python version you are using\n",
    "#'sys' module provides access to some variables used or maintained \n",
    "#by the interpreter and to functions that interact strongly with the interpreter.\n",
    "import sys\n",
    "print(\"Python version\")\n",
    "print (sys.version)"
   ]
  },
  {
   "cell_type": "code",
   "execution_count": 7,
   "id": "99730c12",
   "metadata": {},
   "outputs": [
    {
     "name": "stdout",
     "output_type": "stream",
     "text": [
      "2021-10-23 13:15:19\n"
     ]
    }
   ],
   "source": [
    "#3.Write a Python program to display the current date and time.\n",
    "from datetime import datetime\n",
    "now = datetime.now()\n",
    "print (now.strftime(\"%Y-%m-%d %H:%M:%S\"))"
   ]
  },
  {
   "cell_type": "code",
   "execution_count": 8,
   "id": "48de8357",
   "metadata": {},
   "outputs": [
    {
     "name": "stdout",
     "output_type": "stream",
     "text": [
      "Input the radius of the circle : 13\n",
      "The area of the circle with radius 13.0 is: 530.929158456675\n"
     ]
    }
   ],
   "source": [
    "#4.Write a Python program which accepts the radius of a circle from the user and compute the area.\n",
    "from math import pi\n",
    "r = float(input (\"Input the radius of the circle : \"))\n",
    "print (\"The area of the circle with radius \" + str(r) + \" is: \" + str(pi * r**2))\n"
   ]
  },
  {
   "cell_type": "code",
   "execution_count": 9,
   "id": "ab30a515",
   "metadata": {},
   "outputs": [
    {
     "name": "stdout",
     "output_type": "stream",
     "text": [
      "Input your First Name : Muhammad\n",
      "Input your Last Name : Kamran\n",
      "Hello  Kamran Muhammad\n"
     ]
    }
   ],
   "source": [
    "#5.Write a Python program which accepts the user's first and last name and print them in reverse order with a space between them.\n",
    "fname = input(\"Input your First Name : \")\n",
    "lname = input(\"Input your Last Name : \")\n",
    "print (\"Hello  \" + lname + \" \" + fname)"
   ]
  },
  {
   "cell_type": "code",
   "execution_count": 10,
   "id": "1b96724b",
   "metadata": {},
   "outputs": [
    {
     "name": "stdout",
     "output_type": "stream",
     "text": [
      "enter first number: 12\n",
      "enter second number: 18\n",
      "sum: 30\n"
     ]
    }
   ],
   "source": [
    "#6.Write a python program which takes two inputs from user and print them addition\n",
    "a = int(input(\"enter first number: \"))\n",
    "b = int(input(\"enter second number: \"))\n",
    " \n",
    "sum = a + b\n",
    " \n",
    "print(\"sum:\", sum)"
   ]
  },
  {
   "cell_type": "code",
   "execution_count": 12,
   "id": "0a762067",
   "metadata": {},
   "outputs": [
    {
     "name": "stdout",
     "output_type": "stream",
     "text": [
      "Enter Marks Obtained in 5 Subjects: \n",
      "Enter marks in Matlab\n",
      "80\n",
      "Enter marks in Web\n",
      "85\n",
      "Enter marks in Machine Learning\n",
      "90\n",
      "Enter marks in Networking\n",
      "92\n",
      "Enter marks in Cloud Computing\n",
      "80\n",
      "Your Grade is A2\n"
     ]
    }
   ],
   "source": [
    "#7.Write a program which takes 5 inputs from user for different subject’s marks, total it and generate mark sheet using grades \n",
    "print(\"Enter Marks Obtained in 5 Subjects: \")\n",
    "print(\"Enter marks in Matlab\")\n",
    "Matlab = int(input())\n",
    "print(\"Enter marks in Web\")\n",
    "Web = int(input())\n",
    "print(\"Enter marks in Machine Learning\")\n",
    "Machine_Learning = int(input())\n",
    "print(\"Enter marks in Networking\")\n",
    "Networking = int(input())\n",
    "print(\"Enter marks in Cloud Computing\")\n",
    "Cloud_Computing = int(input())\n",
    "\n",
    "tot = Matlab+Web+Machine_Learning+Networking+Cloud_Computing\n",
    "avg = tot/5\n",
    "\n",
    "if avg>=91 and avg<=100:\n",
    "    print(\"Your Grade is A1\")\n",
    "elif avg>=81 and avg<91:\n",
    "    print(\"Your Grade is A2\")\n",
    "elif avg>=71 and avg<81:\n",
    "    print(\"Your Grade is B1\")\n",
    "elif avg>=61 and avg<71:\n",
    "    print(\"Your Grade is B2\")\n",
    "elif avg>=51 and avg<61:\n",
    "    print(\"Your Grade is C1\")\n",
    "elif avg>=41 and avg<51:\n",
    "    print(\"Your Grade is C2\")\n",
    "elif avg>=33 and avg<41:\n",
    "    print(\"Your Grade is D\")\n",
    "elif avg>=21 and avg<33:\n",
    "    print(\"Your Grade is E1\")\n",
    "elif avg>=0 and avg<21:\n",
    "    print(\"Your Grade is E2\")\n",
    "else:\n",
    "    print(\"Invalid Input!\")"
   ]
  },
  {
   "cell_type": "code",
   "execution_count": 13,
   "id": "ba225833",
   "metadata": {},
   "outputs": [
    {
     "name": "stdout",
     "output_type": "stream",
     "text": [
      "Enter a number: 17\n",
      "This is an odd number.\n"
     ]
    }
   ],
   "source": [
    "#8.Write a program which take input from user and identify that the given number is even or odd?\n",
    "num = int(input(\"Enter a number: \"))\n",
    "mod = num % 2\n",
    "if mod > 0:\n",
    "    print(\"This is an odd number.\")\n",
    "else:\n",
    "    print(\"This is an even number.\")"
   ]
  },
  {
   "cell_type": "code",
   "execution_count": 15,
   "id": "26e748f4",
   "metadata": {},
   "outputs": [
    {
     "name": "stdout",
     "output_type": "stream",
     "text": [
      "The list is : [1, 4, 5, 7, 8]\n",
      "Length of list using naive method is : 5\n"
     ]
    }
   ],
   "source": [
    "#9.Write a program which print the length of the list?\n",
    "# Initializing list \n",
    "test_list = [ 1, 4, 5, 7, 8 ]  \n",
    "# Printing test_list\n",
    "print (\"The list is : \" + str(test_list)) \n",
    "# Finding length of list  # using loop # Initializing counter\n",
    "counter = 0\n",
    "for i in test_list:    \n",
    "    # incrementing counter\n",
    "    counter = counter + 1\n",
    "# Printing length of list \n",
    "print (\"Length of list using naive method is : \" + str(counter))"
   ]
  },
  {
   "cell_type": "code",
   "execution_count": 17,
   "id": "1e0fcd4b",
   "metadata": {},
   "outputs": [
    {
     "name": "stdout",
     "output_type": "stream",
     "text": [
      "Sum of the List is \n",
      "-5\n"
     ]
    }
   ],
   "source": [
    "#10.Write a Python program to sum all the numeric items in a list?\n",
    "def sum_list(items):\n",
    "    sum_numbers = 0\n",
    "    for x in items:\n",
    "        sum_numbers += x\n",
    "    return sum_numbers\n",
    "print(\"Sum of the List is \")\n",
    "print(sum_list([1,2,-8]))"
   ]
  },
  {
   "cell_type": "code",
   "execution_count": 19,
   "id": "a82e6ecf",
   "metadata": {},
   "outputs": [
    {
     "name": "stdout",
     "output_type": "stream",
     "text": [
      "32\n"
     ]
    }
   ],
   "source": [
    "#11.Write a Python program to get the largest number from a numeric list.\n",
    "def max_num_in_list( list ):\n",
    "    max = list[ 0 ]\n",
    "    for a in list:\n",
    "        if a > max:\n",
    "            max = a\n",
    "    return max\n",
    "print(max_num_in_list([1, 32, -8, 0]))"
   ]
  },
  {
   "cell_type": "code",
   "execution_count": 20,
   "id": "b1403e23",
   "metadata": {},
   "outputs": [
    {
     "name": "stdout",
     "output_type": "stream",
     "text": [
      "1\n",
      "\n",
      "1\n",
      "\n",
      "2\n",
      "\n",
      "3\n",
      "\n"
     ]
    }
   ],
   "source": [
    "#12. Take a list, say for example this one:\n",
    "#a = [1, 1, 2, 3, 5, 8, 13, 21, 34, 55, 89]\n",
    "#Write a program that prints out all the elements of the list that are less than 5\n",
    "test_list= [1, 1, 2, 3, 5, 8, 13, 21, 34, 55, 89]\n",
    "for element in test_list:\n",
    "    if(int(element) <5):\n",
    "        print(str(element)+\"\\n\")"
   ]
  },
  {
   "cell_type": "code",
   "execution_count": null,
   "id": "42c8aaab",
   "metadata": {},
   "outputs": [],
   "source": []
  }
 ],
 "metadata": {
  "kernelspec": {
   "display_name": "Python 3",
   "language": "python",
   "name": "python3"
  },
  "language_info": {
   "codemirror_mode": {
    "name": "ipython",
    "version": 3
   },
   "file_extension": ".py",
   "mimetype": "text/x-python",
   "name": "python",
   "nbconvert_exporter": "python",
   "pygments_lexer": "ipython3",
   "version": "3.8.8"
  }
 },
 "nbformat": 4,
 "nbformat_minor": 5
}
